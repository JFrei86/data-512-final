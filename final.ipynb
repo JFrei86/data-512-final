{
 "metadata": {
  "language_info": {
   "codemirror_mode": {
    "name": "ipython",
    "version": 3
   },
   "file_extension": ".py",
   "mimetype": "text/x-python",
   "name": "python",
   "nbconvert_exporter": "python",
   "pygments_lexer": "ipython3",
   "version": 3
  },
  "orig_nbformat": 2
 },
 "nbformat": 4,
 "nbformat_minor": 2,
 "cells": [
  {
   "source": [
    "# Motivation\n",
    "The goal for this project is to identify linguistic patterns that have bias in online job postings. Particularly, I want to identify words and phrases that have masculine and feminine tone so that I can build a model that generates critiques for previously unseen sentences.\n",
    "\n",
    "# Data\n",
    "The dataset consists of 19,000 job postings that were posted through the Armenian human resource portal CareerCenter. The data was extracted from the Yahoo! mailing group https://groups.yahoo.com/neo/groups/careercenter-am. This was the only online human resource portal in the early 2000s.\n",
    "A job posting usually has some structure, although some fields of the posting are not necessarily filled out by the client (poster). The data was cleaned by removing posts that were not job related or had no structure.\n",
    "The data consists of job posts from 2004-2015\n",
    "\n",
    "# Unknowns"
   ],
   "cell_type": "markdown",
   "metadata": {}
  }
 ]
}