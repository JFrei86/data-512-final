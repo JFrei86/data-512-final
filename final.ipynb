{
 "metadata": {
  "language_info": {
   "codemirror_mode": {
    "name": "ipython",
    "version": 3
   },
   "file_extension": ".py",
   "mimetype": "text/x-python",
   "name": "python",
   "nbconvert_exporter": "python",
   "pygments_lexer": "ipython3",
   "version": 3
  },
  "orig_nbformat": 2
 },
 "nbformat": 4,
 "nbformat_minor": 2,
 "cells": [
  {
   "source": [
    "# Motivation \n",
    "\n",
    "The goal for this project is to identify linguistic patterns that have bias in online job postings. Particularly, I want to identify words and phrases that have a masculine or a feminine tone so that I can build a model that generates critiques for previously unseen sentences that users author. I would like to reproduce research that has been performed online by independent researchers and private companies like Jieyu Zhao and Textio. \n",
    "\n",
    "# Data \n",
    "\n",
    "The dataset consists of 19,000 job postings that were posted through the Armenian human resource portal CareerCenter. The data was extracted from the Yahoo! mailing group https://groups.yahoo.com/neo/groups/careercenter-am. This was the only online human resource portal in the early 2000s. \n",
    "\n",
    "A job posting usually has some structure, although some fields of the posting are not necessarily filled out by the client (poster). The data was cleaned by removing posts that were not job related or had no structure. \n",
    "\n",
    "The data consists of job posts from 2004-2015. Each job post contains a separate natural language column for qualifications, job description, and job requirements. The dataset is available in this repository and is originally from a Kaggle competition [(link)](https://www.kaggle.com/madhab/jobposts) \n",
    "\n",
    "The dataset was originally used for classifying if the position was an IT position, but I think it will be useful for comparing the terms used in the job post with the job title. My hypothesis is that positions that are more male dominated will also have a more masculine tone in the description which could limit the number of applicants. \n",
    "\n",
    "I don’t believe there are ethical concerns as this dataset was published publicly for American University of Armenia’s research grant. Because the source is an academic institution, I believe they have credibility and in publishing the dataset addressed privacy concerns. \n",
    "\n",
    "# Unknowns \n",
    "\n",
    "The dataset is from an Armenian bank of job postings, so I will need to explore the data to see if there is any bias compared to US job postings. \n",
    "\n",
    " "
   ],
   "cell_type": "markdown",
   "metadata": {}
  }
 ]
}